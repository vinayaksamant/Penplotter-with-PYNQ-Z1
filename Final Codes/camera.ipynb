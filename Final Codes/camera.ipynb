{
 "cells": [
  {
   "cell_type": "code",
   "execution_count": null,
   "id": "c9d99c69",
   "metadata": {},
   "outputs": [],
   "source": [
    "from PIL import Image \n",
    "from subprocess import call\n",
    "\n",
    "class Camera:\n",
    "\n",
    "    def __init__(self) -> None:\n",
    "        pass\n",
    "\n",
    "    def take_picture(self):\n",
    "        orig_img_path ='/home/xilinx/jupyter_notebooks/common/data/raw_image.png'\n",
    "#         orig_img_path = \"data/raw_image.jpeg\"\n",
    "        !fswebcam  --no-banner --save {orig_img_path} -d /dev/video0 2> /dev/null\n",
    "        return Image.open(orig_img_path)"
   ]
  }
 ],
 "metadata": {
  "kernelspec": {
   "display_name": "Python 3",
   "language": "python",
   "name": "python3"
  },
  "language_info": {
   "codemirror_mode": {
    "name": "ipython",
    "version": 3
   },
   "file_extension": ".py",
   "mimetype": "text/x-python",
   "name": "python",
   "nbconvert_exporter": "python",
   "pygments_lexer": "ipython3",
   "version": "3.8.2"
  }
 },
 "nbformat": 4,
 "nbformat_minor": 5
}
