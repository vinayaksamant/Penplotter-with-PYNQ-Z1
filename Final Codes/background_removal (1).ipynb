{
 "cells": [
  {
   "cell_type": "code",
   "execution_count": null,
   "id": "8318e90e",
   "metadata": {},
   "outputs": [],
   "source": [
    "from rembg import remove \n",
    "from PIL import Image, ImageEnhance\n",
    "\n",
    "class BackgroundRemoval: \n",
    "\n",
    "    def __init__(self) -> None: \n",
    "        pass\n",
    "\n",
    "    def remove(self, input_image: Image) -> None:\n",
    "        output_path = r'data/clean_image.png'\n",
    "\n",
    "\n",
    "        brightness_factor = 1\n",
    "        contrast_factor = 1\n",
    "\n",
    "        enhancer = ImageEnhance.Brightness(image)\n",
    "        input_image = enhancer.enhance(brightness_factor)\n",
    "\n",
    "        enhancer = ImageEnhance.Contrast(image)\n",
    "        input_image = enhancer.enhance(contrast_factor)\n",
    "\n",
    "        output = remove(input_image)\n",
    "\n",
    "        output.save(output_path)"
   ]
  }
 ],
 "metadata": {
  "kernelspec": {
   "display_name": "Python 3",
   "language": "python",
   "name": "python3"
  },
  "language_info": {
   "codemirror_mode": {
    "name": "ipython",
    "version": 3
   },
   "file_extension": ".py",
   "mimetype": "text/x-python",
   "name": "python",
   "nbconvert_exporter": "python",
   "pygments_lexer": "ipython3",
   "version": "3.8.2"
  }
 },
 "nbformat": 4,
 "nbformat_minor": 5
}
