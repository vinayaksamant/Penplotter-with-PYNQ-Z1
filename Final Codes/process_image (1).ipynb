{
 "cells": [
  {
   "cell_type": "code",
   "execution_count": 1,
   "id": "333228a3",
   "metadata": {},
   "outputs": [
    {
     "data": {
      "application/javascript": [
       "\n",
       "try {\n",
       "require(['notebook/js/codecell'], function(codecell) {\n",
       "  codecell.CodeCell.options_default.highlight_modes[\n",
       "      'magic_text/x-csrc'] = {'reg':[/^%%microblaze/]};\n",
       "  Jupyter.notebook.events.one('kernel_ready.Kernel', function(){\n",
       "      Jupyter.notebook.get_cells().map(function(cell){\n",
       "          if (cell.cell_type == 'code'){ cell.auto_highlight(); } }) ;\n",
       "  });\n",
       "});\n",
       "} catch (e) {};\n"
      ]
     },
     "metadata": {},
     "output_type": "display_data"
    },
    {
     "data": {
      "application/javascript": [
       "\n",
       "try {\n",
       "require(['notebook/js/codecell'], function(codecell) {\n",
       "  codecell.CodeCell.options_default.highlight_modes[\n",
       "      'magic_text/x-csrc'] = {'reg':[/^%%pybind11/]};\n",
       "  Jupyter.notebook.events.one('kernel_ready.Kernel', function(){\n",
       "      Jupyter.notebook.get_cells().map(function(cell){\n",
       "          if (cell.cell_type == 'code'){ cell.auto_highlight(); } }) ;\n",
       "  });\n",
       "});\n",
       "} catch (e) {};\n"
      ]
     },
     "metadata": {},
     "output_type": "display_data"
    }
   ],
   "source": [
    "from pynq import Overlay\n",
    "\n",
    "ol = Overlay(\"process_rgb.bit\")"
   ]
  },
  {
   "cell_type": "code",
   "execution_count": 2,
   "id": "9998a2ea",
   "metadata": {},
   "outputs": [],
   "source": [
    "dma = ol.dma\n",
    "dma_send = dma.sendchannel\n",
    "dma_recv = dma.recvchannel\n",
    "\n",
    "hls_ip = ol.process_image "
   ]
  },
  {
   "cell_type": "code",
   "execution_count": 3,
   "id": "e5e2ab7d",
   "metadata": {},
   "outputs": [
    {
     "data": {
      "text/plain": [
       "RegisterMap {\n",
       "  CTRL = Register(AP_START=0, AP_DONE=0, AP_IDLE=1, AP_READY=0, RESERVED_1=0, AUTO_RESTART=0, RESERVED_2=0, INTERRUPT=0, RESERVED_3=0),\n",
       "  GIER = Register(Enable=0, RESERVED=0),\n",
       "  IP_IER = Register(CHAN0_INT_EN=0, CHAN1_INT_EN=0, RESERVED_0=0),\n",
       "  IP_ISR = Register(CHAN0_INT_ST=0, CHAN1_INT_ST=0, RESERVED_0=0)\n",
       "}"
      ]
     },
     "execution_count": 3,
     "metadata": {},
     "output_type": "execute_result"
    }
   ],
   "source": [
    "hls_ip.register_map"
   ]
  },
  {
   "cell_type": "code",
   "execution_count": 4,
   "id": "6fdf0142",
   "metadata": {},
   "outputs": [],
   "source": [
    "CONTROL_REGISTER = 0x0\n",
    "hls_ip.write(CONTROL_REGISTER, 0x81) # 0x81 will set bit 0"
   ]
  },
  {
   "cell_type": "code",
   "execution_count": 5,
   "id": "941978e5",
   "metadata": {},
   "outputs": [],
   "source": [
    "import numpy as np\n",
    "\n",
    "input_array = np.array([1,0,1,0,1,0,1,1,1,0,0,0])\n"
   ]
  },
  {
   "cell_type": "code",
   "execution_count": 6,
   "id": "fc481fd2",
   "metadata": {},
   "outputs": [],
   "source": [
    "from pynq import allocate\n",
    "import numpy as np\n",
    "\n",
    "data_size = 12\n",
    "input_buffer = allocate(shape=(data_size,), dtype=np.uint32)\n",
    "output_buffer = allocate(shape=(data_size,), dtype=np.uint32)\n"
   ]
  },
  {
   "cell_type": "code",
   "execution_count": 7,
   "id": "d53d2b12",
   "metadata": {},
   "outputs": [],
   "source": [
    "# for i in range(data_size):\n",
    "#         input_buffer[i] = 755\n",
    "       \n",
    "input_buffer[:] = input_array\n"
   ]
  },
  {
   "cell_type": "code",
   "execution_count": 8,
   "id": "95f5d096",
   "metadata": {},
   "outputs": [
    {
     "data": {
      "text/plain": [
       "PynqBuffer([1, 0, 1, 0, 1, 0, 1, 1, 1, 0, 0, 0], dtype=uint32)"
      ]
     },
     "execution_count": 8,
     "metadata": {},
     "output_type": "execute_result"
    }
   ],
   "source": [
    "# for i in range(10):\n",
    "#     print('0x' + format(red_buffer[i], '02x'))\n",
    "input_buffer"
   ]
  },
  {
   "cell_type": "code",
   "execution_count": 9,
   "id": "700dfa54",
   "metadata": {},
   "outputs": [],
   "source": [
    "dma_send.transfer(input_buffer)\n"
   ]
  },
  {
   "cell_type": "code",
   "execution_count": 10,
   "id": "541acd16",
   "metadata": {},
   "outputs": [
    {
     "name": "stdout",
     "output_type": "stream",
     "text": [
      "0x00\n",
      "0x00\n",
      "0x00\n",
      "0x00\n",
      "0x00\n",
      "0x00\n",
      "0x00\n",
      "0x00\n",
      "0x00\n",
      "0x00\n"
     ]
    }
   ],
   "source": [
    "for i in range(10):\n",
    "    print('0x' + format(output_buffer[i], '02x'))"
   ]
  },
  {
   "cell_type": "code",
   "execution_count": 11,
   "id": "b8398479",
   "metadata": {},
   "outputs": [],
   "source": [
    "dma_recv.transfer(output_buffer)"
   ]
  },
  {
   "cell_type": "code",
   "execution_count": 12,
   "id": "d83765e4",
   "metadata": {},
   "outputs": [
    {
     "data": {
      "text/plain": [
       "PynqBuffer([0, 0, 0, 0, 0, 0, 0, 0, 0, 0, 0, 0], dtype=uint32)"
      ]
     },
     "execution_count": 12,
     "metadata": {},
     "output_type": "execute_result"
    }
   ],
   "source": [
    "# for i in range(10):\n",
    "#     print(output_buffer[i])\n",
    "#     print('0x' + format(output_buffer[i], '02x'))\n",
    "output_buffer"
   ]
  },
  {
   "cell_type": "code",
   "execution_count": null,
   "id": "e14f8660",
   "metadata": {},
   "outputs": [],
   "source": [
    "del input_buffer , output_buffer"
   ]
  },
  {
   "cell_type": "code",
   "execution_count": null,
   "id": "4acc85d0",
   "metadata": {},
   "outputs": [],
   "source": []
  }
 ],
 "metadata": {
  "kernelspec": {
   "display_name": "Python 3",
   "language": "python",
   "name": "python3"
  },
  "language_info": {
   "codemirror_mode": {
    "name": "ipython",
    "version": 3
   },
   "file_extension": ".py",
   "mimetype": "text/x-python",
   "name": "python",
   "nbconvert_exporter": "python",
   "pygments_lexer": "ipython3",
   "version": "3.8.2"
  }
 },
 "nbformat": 4,
 "nbformat_minor": 5
}
