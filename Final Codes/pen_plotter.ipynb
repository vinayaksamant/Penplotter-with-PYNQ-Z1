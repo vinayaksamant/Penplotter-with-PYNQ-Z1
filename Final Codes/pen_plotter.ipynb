{
 "cells": [
  {
   "cell_type": "code",
   "execution_count": 1,
   "id": "8c78007c",
   "metadata": {},
   "outputs": [],
   "source": [
    "from pyaxidraw import axidraw\n",
    "\n",
    "class PenPlotter: \n",
    "\n",
    "    def __init__(self) -> None:\n",
    "        self.ad = axidraw.AxiDraw()\n",
    "\n",
    "    def plot(svg_path: str) -> None:\n",
    "        self.ad.plot_setup(svg_path)\n",
    "        ad.plot_run()"
   ]
  },
  {
   "cell_type": "code",
   "execution_count": null,
   "id": "e1338dd5",
   "metadata": {},
   "outputs": [],
   "source": []
  }
 ],
 "metadata": {
  "kernelspec": {
   "display_name": "Python 3",
   "language": "python",
   "name": "python3"
  },
  "language_info": {
   "codemirror_mode": {
    "name": "ipython",
    "version": 3
   },
   "file_extension": ".py",
   "mimetype": "text/x-python",
   "name": "python",
   "nbconvert_exporter": "python",
   "pygments_lexer": "ipython3",
   "version": "3.8.2"
  }
 },
 "nbformat": 4,
 "nbformat_minor": 5
}
