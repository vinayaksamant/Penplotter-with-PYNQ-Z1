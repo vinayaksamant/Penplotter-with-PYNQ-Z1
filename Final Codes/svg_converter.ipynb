{
 "cells": [
  {
   "cell_type": "code",
   "execution_count": null,
   "id": "53d8f1c2",
   "metadata": {},
   "outputs": [],
   "source": [
    "from PIL import Image, ImageDraw\n",
    "\n",
    "class SVGConverter: \n",
    "\n",
    "    def __init__(self) -> None:\n",
    "        pass\n",
    "\n",
    "    def fromPoints(self, width : int, height : int ,points : list) -> str:\n",
    "        coordinates = points\n",
    "        image_size = (width,height)\n",
    "        img = Image.new('RGB', image_size, (255, 255, 255))\n",
    "        \n",
    "        output_png_path = \"data/output.png\"\n",
    "        \n",
    "        draw = ImageDraw.Draw(img)\n",
    "        for line_coords in coordinates:\n",
    "            start_x, start_y = line_coords[0]\n",
    "            end_x, end_y = line_coords[1]\n",
    "            draw.line([(start_x, start_y), (end_x, end_y)], fill=(0, 0, 0), width=1)\n",
    "            \n",
    "        img.save(output_png_path)\n",
    "        \n",
    "        \n",
    "        svg_file_path = \"data/output.svg\"\n",
    "        svg_content = f'<?xml version=\"1.0\" encoding=\"UTF-8\"?>\\n<svg width=\"{width}\" height=\"{height}\" xmlns=\"http://www.w3.org/2000/svg\">\\n'\n",
    "        svg_content = f'<svg xmlns=\"http://www.w3.org/2000/svg\" width=\"800\" height=\"600\" viewBox=\"0 0 800 600\" style=\"position: fixed; background: white;\">'\n",
    "        svg_content += '<path style=\"stroke-width: 2px; fill: none; stroke: black\" d=\"'\n",
    "        for line in points:\n",
    "            svg_content += f'M{line[0][0]},{line[0][1]}L{line[1][0]},{line[1][1]} '\n",
    "        svg_content += '\" fill=\"black\"/>'\n",
    "        svg_content += '</svg>'\n",
    "\n",
    "        with open(svg_file_path, 'w') as svg_file:\n",
    "            svg_file.write(svg_content)\n",
    "        \n",
    "        return svg_file_path,Image.open(output_png_path)\n",
    "    \n",
    "\n",
    "        # svg_file_path = \"C:/DIT/Case Study Embedded systems/Codes/output.svg\"\n",
    "\n",
    "        # svg_content = f'<?xml version=\"1.0\" encoding=\"UTF-8\"?>\\n<svg width=\"{config[\"width\"]}\" height=\"{config[\"height\"]}\" xmlns=\"http://www.w3.org/2000/svg\">\\n'\n",
    "\n",
    "        # for line in points:\n",
    "        #     svg_content += f'  <line x1=\"{line[0][0]}\" y1=\"{line[0][1]}\" x2=\"{line[1][0]}\" y2=\"{line[1][1]}\" stroke=\"black\" />\\n'\n",
    "\n",
    "        # svg_content += '</svg>'\n",
    "\n",
    "        # with open(svg_file_path, 'w') as svg_file:\n",
    "        #     svg_file.write(svg_content)"
   ]
  }
 ],
 "metadata": {
  "kernelspec": {
   "display_name": "Python 3",
   "language": "python",
   "name": "python3"
  },
  "language_info": {
   "codemirror_mode": {
    "name": "ipython",
    "version": 3
   },
   "file_extension": ".py",
   "mimetype": "text/x-python",
   "name": "python",
   "nbconvert_exporter": "python",
   "pygments_lexer": "ipython3",
   "version": "3.8.2"
  }
 },
 "nbformat": 4,
 "nbformat_minor": 5
}
